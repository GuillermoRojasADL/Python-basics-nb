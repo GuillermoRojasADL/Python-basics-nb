{
 "cells": [
  {
   "cell_type": "markdown",
   "metadata": {},
   "source": [
    "# Python If Else, If Elif Else, Nested If for Decision Making"
   ]
  },
  {
   "cell_type": "markdown",
   "metadata": {},
   "source": [
    "## If Statement"
   ]
  },
  {
   "cell_type": "markdown",
   "metadata": {},
   "source": [
    "### Syntax"
   ]
  },
  {
   "cell_type": "markdown",
   "metadata": {},
   "source": [
    " if Logical_Expression :\n",
    "    Indented Code Block"
   ]
  },
  {
   "cell_type": "markdown",
   "metadata": {},
   "source": [
    "### Example"
   ]
  },
  {
   "cell_type": "code",
   "execution_count": 26,
   "metadata": {},
   "outputs": [
    {
     "name": "stdout",
     "output_type": "stream",
     "text": [
      "How many days in a leap year? 67\n",
      "Congrats!\n"
     ]
    }
   ],
   "source": [
    "days = int(input(\"How many days in a leap year? \"))\n",
    "if days == 366:\n",
    "    print(\"You have cleared the test.\")\n",
    "print(\"Congrats!\")"
   ]
  },
  {
   "cell_type": "markdown",
   "metadata": {},
   "source": [
    "## If Else Statement"
   ]
  },
  {
   "cell_type": "markdown",
   "metadata": {},
   "source": [
    "### Syntax"
   ]
  },
  {
   "cell_type": "markdown",
   "metadata": {},
   "source": [
    "if Logical_Expression :\n",
    "    Indented Code Block 1\n",
    "else :\n",
    "    Indented Code Block 2"
   ]
  },
  {
   "cell_type": "markdown",
   "metadata": {},
   "source": [
    "### Example"
   ]
  },
  {
   "cell_type": "code",
   "execution_count": 27,
   "metadata": {},
   "outputs": [
    {
     "name": "stdout",
     "output_type": "stream",
     "text": [
      "Is Python an interpreted language? Yes or No >> No\n",
      "You have failed the test.\n",
      "Thanks!\n"
     ]
    }
   ],
   "source": [
    "answer = input(\"Is Python an interpreted language? Yes or No >> \").lower()\n",
    "\n",
    "if answer == \"yes\" :\n",
    "    print(\"You have cleared the test.\")\n",
    "else :\n",
    "    print(\"You have failed the test.\")\n",
    "\n",
    "print(\"Thanks!\")"
   ]
  },
  {
   "cell_type": "markdown",
   "metadata": {},
   "source": [
    "## If-Elif-Else Statement"
   ]
  },
  {
   "cell_type": "markdown",
   "metadata": {},
   "source": [
    "### Syntax"
   ]
  },
  {
   "cell_type": "markdown",
   "metadata": {},
   "source": [
    "if Logical_Expression_1 :\n",
    "    Indented Code Block 1\n",
    "elif Logical_Expression_2 :\n",
    "    Indented Code Block 2\n",
    "elif Logical_Expression_3 :\n",
    "    Indented Code Block 3\n",
    "...\n",
    "else :\n",
    "    Indented Code Block N"
   ]
  },
  {
   "cell_type": "markdown",
   "metadata": {},
   "source": [
    "### Example"
   ]
  },
  {
   "cell_type": "code",
   "execution_count": 13,
   "metadata": {},
   "outputs": [
    {
     "name": "stdout",
     "output_type": "stream",
     "text": [
      "Which Python data type is an ordered sequence? list\n",
      "You entered: list\n",
      "You have cleared the test.\n"
     ]
    }
   ],
   "source": [
    "response = input(\"Which Python data type is an ordered sequence? \").lower()\n",
    "print(\"You entered:\", response)\n",
    "\n",
    "if response == \"list\" :\n",
    "    print(\"You have cleared the test.\")\n",
    "elif response == \"tuple\" :\n",
    "    print(\"You have cleared the test.\")\n",
    "else :\n",
    "    print(\"Your input is wrong. Please try again.\")"
   ]
  },
  {
   "cell_type": "markdown",
   "metadata": {},
   "source": [
    "## Nested If-Else"
   ]
  },
  {
   "cell_type": "markdown",
   "metadata": {},
   "source": [
    "### Syntax"
   ]
  },
  {
   "cell_type": "raw",
   "metadata": {},
   "source": [
    "if Logical_Expression_1 :\n",
    "    if Logical_Expression_1.1 :\n",
    "        if Logical_Expression_1.1.1 :\n",
    "            Indented Code Block 1.1.1\n",
    "        else\n",
    "            Indented Code Block\n",
    "    elif Logical_Expression_1.2 :\n",
    "        Indented Code Block 1.2\n",
    "    else :\n",
    "        Indented Code Block\n",
    "elif Logical_Expression_2 :\n",
    "    Indented Code Block 2\n",
    "elif Logical_Expression_3 :\n",
    "    Indented Code Block 3\n",
    "...\n",
    "else :\n",
    "    Indented Code Block"
   ]
  },
  {
   "cell_type": "markdown",
   "metadata": {},
   "source": [
    "### Example"
   ]
  },
  {
   "cell_type": "code",
   "execution_count": 14,
   "metadata": {},
   "outputs": [
    {
     "name": "stdout",
     "output_type": "stream",
     "text": [
      "Start\n",
      " Nested If\n",
      " End of Nested If Block \n",
      "Stop\n"
     ]
    }
   ],
   "source": [
    "x = 10\n",
    "y = 20\n",
    "z = 30\n",
    "\n",
    "print(\"Start\")\n",
    "if x == 10:\n",
    "    print(\" Nested If\")\n",
    "    if y == 20:\n",
    "        print(\" End of Nested If Block \")\n",
    "    else:\n",
    "        print(\" End of Nested If-Else Block \")\n",
    "elif y == 20:\n",
    "    print(\" Elif block \")\n",
    "else:\n",
    "    print(\" Nested If\")\n",
    "    if z == 30:\n",
    "        print(\" End of Nested If Block \")\n",
    "    else:\n",
    "        print(\" End of Nested If-Else Block \")\n",
    "print(\"Stop\")"
   ]
  },
  {
   "cell_type": "markdown",
   "metadata": {},
   "source": [
    "## Using Not Operator"
   ]
  },
  {
   "cell_type": "markdown",
   "metadata": {},
   "source": [
    "# Example"
   ]
  },
  {
   "cell_type": "code",
   "execution_count": 16,
   "metadata": {},
   "outputs": [
    {
     "name": "stdout",
     "output_type": "stream",
     "text": [
      "The number 10 is less than 20\n"
     ]
    }
   ],
   "source": [
    "a = 10\n",
    "b = 20\n",
    "if not a > b :\n",
    "    print(\"The number %d is less than %d\" %(a, b))"
   ]
  },
  {
   "cell_type": "markdown",
   "metadata": {},
   "source": [
    "# Using And Operator"
   ]
  },
  {
   "cell_type": "markdown",
   "metadata": {},
   "source": [
    "### Example"
   ]
  },
  {
   "cell_type": "code",
   "execution_count": 17,
   "metadata": {},
   "outputs": [
    {
     "name": "stdout",
     "output_type": "stream",
     "text": [
      "avg = 20.0\n",
      "20 is just higher than 10\n"
     ]
    }
   ],
   "source": [
    "a = 10\n",
    "b = 20\n",
    "c = 30\n",
    "\n",
    "avg = (a + b + c) / 3\n",
    "print(\"avg =\", avg)\n",
    "\n",
    "if avg > a and avg > b and avg > c:\n",
    "    print(\"%d is higher than %d, %d, %d\" %(avg, a, b, c))\n",
    "elif avg > a and avg > b:\n",
    "    print(\"%d is higher than %d, %d\" %(avg, a, b))\n",
    "elif avg > a and avg > c:\n",
    "    print(\"%d is higher than %d, %d\" %(avg, a, c))\n",
    "elif avg > b and avg > c:\n",
    "    print(\"%d is higher than %d, %d\" %(avg, b, c))\n",
    "elif avg > a:\n",
    "    print(\"%d is just higher than %d\" %(avg, a))\n",
    "elif avg > b:\n",
    "    print(\"%d is just higher than %d\" %(avg, b))\n",
    "elif avg > c:\n",
    "    print(\"%d is just higher than %d\" %(avg, c))"
   ]
  },
  {
   "cell_type": "markdown",
   "metadata": {},
   "source": [
    "## Using In Operator"
   ]
  },
  {
   "cell_type": "markdown",
   "metadata": {},
   "source": [
    "### Example"
   ]
  },
  {
   "cell_type": "code",
   "execution_count": 18,
   "metadata": {},
   "outputs": [
    {
     "name": "stdout",
     "output_type": "stream",
     "text": [
      "Allowed Item: 1\n",
      "Allowed Item: 10\n",
      "Allowed Item: 20\n",
      "Allowed Item: 30\n"
     ]
    }
   ],
   "source": [
    "num_list = [1, 10, 2, 20, 3, 30]\n",
    "for num in num_list:\n",
    "    if not num in (2, 3):\n",
    "        print (\"Allowed Item:\", num)"
   ]
  },
  {
   "cell_type": "markdown",
   "metadata": {},
   "source": [
    "\n",
    "\n",
    "\n",
    "\n",
    "\n",
    "\n",
    "# Python Loops"
   ]
  },
  {
   "cell_type": "markdown",
   "metadata": {},
   "source": [
    "## For Loop"
   ]
  },
  {
   "cell_type": "markdown",
   "metadata": {},
   "source": [
    "### Syntax"
   ]
  },
  {
   "cell_type": "markdown",
   "metadata": {},
   "source": [
    "for iter in sequence:\n",
    "    statements(iter)"
   ]
  },
  {
   "cell_type": "markdown",
   "metadata": {},
   "source": [
    "### Example"
   ]
  },
  {
   "cell_type": "code",
   "execution_count": 29,
   "metadata": {},
   "outputs": [
    {
     "name": "stdout",
     "output_type": "stream",
     "text": [
      "Sum = 21\n",
      "Avg = 3.5\n"
     ]
    }
   ],
   "source": [
    "int_list = [1, 2, 3, 4, 5, 6]\n",
    "sum = 0\n",
    "for iter in int_list:\n",
    "    sum += iter\n",
    "print(\"Sum =\", sum)\n",
    "print(\"Avg =\", sum/len(int_list))"
   ]
  },
  {
   "cell_type": "markdown",
   "metadata": {},
   "source": [
    "##  For-Else Clause With For Loop"
   ]
  },
  {
   "cell_type": "markdown",
   "metadata": {},
   "source": [
    "### Syntax"
   ]
  },
  {
   "cell_type": "markdown",
   "metadata": {},
   "source": [
    "for item in seq:\n",
    "    statement 1\n",
    "    statement 2\n",
    "    if <cond>:\n",
    "        break\n",
    "else:\n",
    "    statements"
   ]
  },
  {
   "cell_type": "markdown",
   "metadata": {},
   "source": [
    "### Example"
   ]
  },
  {
   "cell_type": "code",
   "execution_count": 21,
   "metadata": {},
   "outputs": [
    {
     "name": "stdout",
     "output_type": "stream",
     "text": [
      "Belle\n",
      "Coco\n",
      "Juniper\n",
      "Lilly\n",
      "Snow\n",
      "No birds left.\n"
     ]
    }
   ],
   "source": [
    "birds = ['Belle', 'Coco', 'Juniper', 'Lilly', 'Snow']\n",
    "ignoreElse = False\n",
    "\n",
    "for theBird in birds:\n",
    "    print(theBird )\n",
    "    if ignoreElse and theBird is 'Snow':\n",
    "        break\n",
    "else:\n",
    "    print(\"No birds left.\")"
   ]
  },
  {
   "cell_type": "markdown",
   "metadata": {},
   "source": [
    "## While Loop"
   ]
  },
  {
   "cell_type": "markdown",
   "metadata": {},
   "source": [
    "### Syntax"
   ]
  },
  {
   "cell_type": "markdown",
   "metadata": {},
   "source": [
    "while some condition (or expression) :\n",
    "    a block of code"
   ]
  },
  {
   "cell_type": "markdown",
   "metadata": {},
   "source": [
    "### Example"
   ]
  },
  {
   "cell_type": "code",
   "execution_count": 22,
   "metadata": {},
   "outputs": [
    {
     "name": "stdout",
     "output_type": "stream",
     "text": [
      "Enter the starting range value?12\n",
      "Enter the ending range value?45\n",
      "Odd count: 16\n"
     ]
    }
   ],
   "source": [
    "#custom debug print function\n",
    "def dbgprint(x):\n",
    "    if debug == True:\n",
    "        print(x)\n",
    "\n",
    "#ask user to enter the range values\n",
    "debug = False\n",
    "r1 = int(input(\"Enter the starting range value?\"))\n",
    "r2 = int(input(\"Enter the ending range value?\"))\n",
    "         \n",
    "dbgprint(\"Range: %d - %d\" % (r1, r2))\n",
    "\n",
    "num = r1 + 1\n",
    "count = 0\n",
    "\n",
    "while num < r2:\n",
    "    dbgprint(\"num: %d\" % (num))\n",
    "    res = num % 2\n",
    "    dbgprint(\"res: %d\" % (res))\n",
    "    if (num % 2) > 0:\n",
    "        count += 1\n",
    "    num += 1\n",
    "\n",
    "print(\"Odd count: %d\" % (count))"
   ]
  },
  {
   "cell_type": "markdown",
   "metadata": {},
   "source": [
    "## Switch Case Statement"
   ]
  },
  {
   "cell_type": "code",
   "execution_count": 23,
   "metadata": {},
   "outputs": [
    {
     "name": "stdout",
     "output_type": "stream",
     "text": [
      "monday\n",
      "Incorrect day\n"
     ]
    }
   ],
   "source": [
    "### Implement Python Switch Case Statement using Dictionary\n",
    "def monday():\n",
    "    return \"monday\"\n",
    "def tuesday():\n",
    "    return \"tuesday\"\n",
    "def wednesday():\n",
    "    return \"wednesday\"\n",
    "def thursday():\n",
    "    return \"thursday\"\n",
    "def friday():\n",
    "    return \"friday\"\n",
    "def saturday():\n",
    "    return \"saturday\"\n",
    "def sunday():\n",
    "    return \"sunday\"\n",
    "def default():\n",
    "    return \"Incorrect day\"\n",
    "\n",
    "switcher = {\n",
    "    1: monday,\n",
    "    2: tuesday,\n",
    "    3: wednesday,\n",
    "    4: thursday,\n",
    "    5: friday,\n",
    "    6: saturday,\n",
    "    7: sunday\n",
    "    }\n",
    "\n",
    "def switch(dayOfWeek):\n",
    "    return switcher.get(dayOfWeek, default)()\n",
    "\n",
    "print(switch(1))\n",
    "print(switch(0))"
   ]
  },
  {
   "cell_type": "code",
   "execution_count": 28,
   "metadata": {},
   "outputs": [
    {
     "name": "stdout",
     "output_type": "stream",
     "text": [
      "Monday\n",
      "Incorrect day\n"
     ]
    }
   ],
   "source": [
    "# Implement Python Switch Case Statement using Class\n",
    "\n",
    "class PythonSwitch:\n",
    "\n",
    "    def switch(self, dayOfWeek):\n",
    "        default = \"Incorrect day\"\n",
    "        return getattr(self, 'case_' + str(dayOfWeek), lambda: default)()\n",
    "\n",
    "    def case_1(self):\n",
    "        return \"Monday\"\n",
    " \n",
    "    def case_2(self):\n",
    "        return \"Tuesday\"\n",
    " \n",
    "    def case_3(self):\n",
    "        return \"Wednesday\"\n",
    "\n",
    "s = PythonSwitch()\n",
    "\n",
    "print(s.switch(1))\n",
    "print(s.switch(0))"
   ]
  },
  {
   "cell_type": "code",
   "execution_count": null,
   "metadata": {},
   "outputs": [],
   "source": []
  }
 ],
 "metadata": {
  "kernelspec": {
   "display_name": "Python 3",
   "language": "python",
   "name": "python3"
  },
  "language_info": {
   "codemirror_mode": {
    "name": "ipython",
    "version": 3
   },
   "file_extension": ".py",
   "mimetype": "text/x-python",
   "name": "python",
   "nbconvert_exporter": "python",
   "pygments_lexer": "ipython3",
   "version": "3.5.5"
  }
 },
 "nbformat": 4,
 "nbformat_minor": 2
}
