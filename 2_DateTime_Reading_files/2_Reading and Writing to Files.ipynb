{
 "cells": [
  {
   "cell_type": "markdown",
   "metadata": {},
   "source": [
    "# How to open, read, write and close files in Python"
   ]
  },
  {
   "cell_type": "markdown",
   "metadata": {},
   "source": [
    "## A short text file \n",
    "\n",
    "Four score and seven years ago our fathers brought forth on this continent a new nation, conceived in liberty, and dedicated to the proposition that all men are created equal.\n",
    "\n",
    "Now we are engaged in a great civil war, testing whether that nation, or any nation, so conceived and so dedicated, can long endure. We are met on a great battle-field of that war. We have come to dedicate a portion of that field, as a final resting place for those who here gave their lives that that nation might live. It is altogether fitting and proper that we should do this.\n",
    "\n",
    "But, in a larger sense, we can not dedicate, we can not consecrate, we can not hallow this ground. The brave men, living and dead, who struggled here, have consecrated it, far above our poor power to add or detract. The world will little note, nor long remember what we say here, but it can never forget what they did here. It is for us the living, rather, to be dedicated here to the unfinished work which they who fought here have thus far so nobly advanced. It is rather for us to be here dedicated to the great task remaining before us—that from these honored dead we take increased devotion to that cause for which they gave the last full measure of devotion — that we here highly resolve that these dead shall not have died in vain — that this nation, under God, shall have a new birth of freedom — and that government of the people, by the people, for the people, shall not perish from the earth.\n",
    "\n",
    "-- Abraham Lincoln, Nov. 19, 1863"
   ]
  },
  {
   "cell_type": "markdown",
   "metadata": {},
   "source": [
    "# Cheatsheet for opening, reading, writing, closing files\n",
    "\n",
    "# Have a short text file ready. Do not have any file named target.txt.\n"
   ]
  },
  {
   "cell_type": "code",
   "execution_count": 4,
   "metadata": {},
   "outputs": [
    {
     "name": "stdout",
     "output_type": "stream",
     "text": [
      "Let's open and read a short text file.\n",
      "We opened it. Now we will read it with a print statement.\n",
      "\n",
      "Four score and seven years ago our fathers brought forth on this continent a new nation, conceived in liberty, and dedicated to the proposition that all men are created equal.\n",
      "\n",
      "Now we are engaged in a great civil war, testing whether that nation, or any nation, so conceived and so dedicated, can long endure. We are met on a great battle-field of that war. We have come to dedicate a portion of that field, as a final resting place for those who here gave their lives that that nation might live. It is altogether fitting and proper that we should do this.\n",
      "\n",
      "But, in a larger sense, we can not dedicate, we can not consecrate, we can not hallow this ground. The brave men, living and dead, who struggled here, have consecrated it, far above our poor power to add or detract. The world will little note, nor long remember what we say here, but it can never forget what they did here. It is for us the living, rather, to be dedicated here to the unfinished work which they who fought here have thus far so nobly advanced. It is rather for us to be here dedicated to the great task remaining before usâ€”that from these honored dead we take increased devotion to that cause for which they gave the last full measure of devotion â€” that we here highly resolve that these dead shall not have died in vain â€” that this nation, under God, shall have a new birth of freedom â€” and that government of the people, by the people, for the people, shall not perish from the earth.\n",
      "\n",
      "-- Abraham Lincoln, Nov. 19, 1863\n"
     ]
    }
   ],
   "source": [
    "import os\n",
    "\n",
    "print(\"Let's open and read a short text file.\")\n",
    "\n",
    "dataPath = r\"C:\\Users\\fabian.rojas\\Documents\\Analitica_Avanzada\\Presentaciones\\Python_BackEnd\\Jennyfer Combariza\\data\"\n",
    "f = open(os.path.join(dataPath, \"gettysburg.txt\"))\n",
    "\n",
    "print(\"We opened it. Now we will read it with a print statement.\\n\")\n",
    "\n",
    "print(f.read())"
   ]
  },
  {
   "cell_type": "markdown",
   "metadata": {},
   "source": [
    "return to the start of the file"
   ]
  },
  {
   "cell_type": "code",
   "execution_count": 8,
   "metadata": {},
   "outputs": [
    {
     "data": {
      "text/plain": [
       "0"
      ]
     },
     "execution_count": 8,
     "metadata": {},
     "output_type": "execute_result"
    }
   ],
   "source": [
    "f.seek(0)"
   ]
  },
  {
   "cell_type": "markdown",
   "metadata": {},
   "source": [
    "this will erase contents of the file specified:"
   ]
  },
  {
   "cell_type": "code",
   "execution_count": 5,
   "metadata": {},
   "outputs": [
    {
     "name": "stdout",
     "output_type": "stream",
     "text": [
      "We also wrote the contents of the file into \"target.txt\".\n"
     ]
    }
   ],
   "source": [
    "dataPath = r\"C:\\Users\\fabian.rojas\\Documents\\Analitica_Avanzada\\Presentaciones\\Python_BackEnd\\Jennyfer Combariza\\data\"\n",
    "t = open(os.path.join(dataPath,\"target.txt\"), 'w')\n",
    "\n",
    "t.write(f.read())\n",
    "\n",
    "print(\"We also wrote the contents of the file into \\\"target.txt\\\".\")\n",
    "\n",
    "f.close()\n",
    "t.close()"
   ]
  },
  {
   "cell_type": "markdown",
   "metadata": {},
   "source": [
    "# py_handles_csv\n",
    "reading and writing CSV files in python using csv and pandas module\n",
    "\n",
    "# What CSV Stands For ?\n",
    "**CSV** stands for **Comma Separated Values File** is just like a plain file that uses \n",
    "a different approach for structuring data.\n",
    "\n",
    "If you open a csv file in Sublime Text you will find simple plain text separated with \n",
    "commas\n",
    "\n",
    "**Example**\n",
    "```\n",
    "id,name,email,amount,date,sent\n",
    "1,Hopper,email-address,269,03 Sep at 21:14,False\n",
    "2,Drake,email-address,690,03 Sep at 21:14,False\n",
    "3,Adam,email-address,20,03 Sep at 21:14,False\n",
    "4,Justin,email-address,199,03 Sep at 21:14,False\n",
    "```\n",
    "\n",
    "In general, the separator character is called a delimiter, and the comma is not the \n",
    "only one used. Other popular delimiters include the tab (\\t), colon (:) and semi-colon \n",
    "(;) characters. Properly parsing a CSV file requires us to know which delimiter is \n",
    "being used.\n",
    "\n",
    "CSV files are very useful for handling large chunk of data and this type of data can be\n",
    "very easily handled with any programming language which supports string handling like\n",
    "python.\n",
    "\n",
    "**Python** has built-in [csv](https://docs.python.org/3/library/csv.html) library for\n",
    "handling csv data. Using python csv library we can perform many tasks on csv files and\n",
    "csv data like reading, writing and processing data from csv files.\n",
    "\n",
    "# Reading CSV File\n",
    "**csv** library has **reader** object for specifically reading purpose of csv files.\n",
    "The ```with open()``` function in python opens any file including csv files in text \n",
    "format, the text is then passed onto reader object which does all the processing of \n",
    "the csv data.\n",
    "\n",
    "We have a file ```employee_data.csv``` file which has values in comma seperated \n",
    "format, ```reading_csvfile.py``` opens the file and reads data from it using csv library\n",
    "\n",
    "**reading_csvfile.py**\n"
   ]
  },
  {
   "cell_type": "code",
   "execution_count": 15,
   "metadata": {},
   "outputs": [],
   "source": [
    "import csv "
   ]
  },
  {
   "cell_type": "code",
   "execution_count": 16,
   "metadata": {},
   "outputs": [
    {
     "name": "stdout",
     "output_type": "stream",
     "text": [
      "Column names are name, department, birthday month\n",
      "\tJohn Smith works in the Accounting department, and was born in November.\n",
      "\tErica Meyers works in the IT department, and was born in March.\n",
      "Processed 3 lines.\n"
     ]
    }
   ],
   "source": [
    "import csv \n",
    "\n",
    "with open('employee_data.csv') as csvfile:\n",
    "    csv_reader = csv.reader(csvfile, delimiter=',')\n",
    "    line_count = 0\n",
    "    for row in csv_reader:\n",
    "        if line_count == 0:\n",
    "            print(f'Column names are {\", \".join(row)}')\n",
    "            line_count += 1\n",
    "        else:\n",
    "            print(f'\\t{row[0]} works in the {row[1]} department, and was born in {row[2]}.')\n",
    "            line_count += 1\n",
    "    print(f'Processed {line_count} lines.')"
   ]
  },
  {
   "cell_type": "markdown",
   "metadata": {},
   "source": [
    "# Reading CSV Files Into Dictionary\n",
    "**csv** library along with the simple reader that just reads the plain text into a csv\n",
    "formatted data. csv has one more reader object that works in a slightly different way.\n",
    "\n",
    "```csv.DictReader``` reads the csv file into a dictionary object with **key** of the \n",
    "dictionary as the header/column names and **values** as the values in each corresponding \n",
    "row.\n",
    "\n",
    "This is how the dictionary looks like\n",
    "\n",
    "```\n",
    "OrderedDict([('name', 'John Smith'), ('department', 'Accounting'), ('birthday month', 'November')])\n",
    "OrderedDict([('name', 'Erica Meyers'), ('department', 'IT'), ('birthday month', 'March')])\n",
    "...\n",
    "```\n",
    "\n",
    "This is the data from the ```employee_data.csv``` file. Remember the column names\n",
    "\n",
    "1. name\n",
    "2. department\n",
    "3. birthday month\n",
    "\n",
    "Now take a look at the ```employee_data.csv``` file \n",
    "\n",
    "```\n",
    "name,department,birthday month\n",
    "John Smith,Accounting,November\n",
    "Erica Meyers,IT,March\n",
    "```\n",
    "\n",
    "Code to reading file into dict is\n",
    "\n",
    "**csv_dictreader.py**\n"
   ]
  },
  {
   "cell_type": "code",
   "execution_count": 7,
   "metadata": {},
   "outputs": [
    {
     "name": "stdout",
     "output_type": "stream",
     "text": [
      "{'department': 'Accounting', 'name': 'John Smith', 'birthday month': 'November'}\n",
      "{'department': 'IT', 'name': 'Erica Meyers', 'birthday month': 'March'}\n"
     ]
    }
   ],
   "source": [
    "import csv\n",
    "\n",
    "with open(os.path.join(dataPath,'employee_data.csv')) as csvfile:\n",
    "    csv_reader = csv.DictReader(csvfile)\n",
    "    for row in csv_reader:\n",
    "        print(row)\n",
    "\n"
   ]
  },
  {
   "cell_type": "markdown",
   "metadata": {},
   "source": [
    "Since the ```csv.DictReader``` returns an [dict](https://developers.google.com/edu/python/dict-files) object, question arises\n",
    "\n",
    "**Is this dict object the regular dictionary that exists in python ?**\n",
    "\n",
    "The answer is **Yes**\n",
    "\n",
    "**You can actually apply all operations that can be done on dictionaries in python**\n",
    "\n",
    "Just like we used our data to print useful information in ```reading_csvfile.py``` we \n",
    "can do the same here.\n"
   ]
  },
  {
   "cell_type": "code",
   "execution_count": 22,
   "metadata": {},
   "outputs": [
    {
     "name": "stdout",
     "output_type": "stream",
     "text": [
      "Column names are name, department, birthday month\n",
      "\tJohn Smith works in the Accounting department, and was born in November.\n",
      "\tErica Meyers works in the IT department, and was born in March.\n",
      "Processed 3 lines.\n"
     ]
    }
   ],
   "source": [
    "import csv\n",
    "\n",
    "with open('employee_data.csv') as csvfile:\n",
    "    csv_reader = csv.DictReader(csvfile)\n",
    "    line_count = 0\n",
    "    for row in csv_reader:\n",
    "        if line_count == 0:\n",
    "            print(f'Column names are {\", \".join(row)}')\n",
    "            line_count += 1\n",
    "        print(f'\\t{row[\"name\"]} works in the {row[\"department\"]} department, and was born in {row[\"birthday month\"]}.')\n",
    "        line_count += 1\n",
    "    print(f'Processed {line_count} lines.')\n",
    "\n"
   ]
  },
  {
   "cell_type": "markdown",
   "metadata": {},
   "source": [
    "Note how we use ```row[\"name\"]``` to get the name key from the dictionary.\n",
    "\n",
    "But how did csv know that **name** is actually a key to be used in dict object.\n",
    "\n",
    "The first line of the CSV file is assumed to contain the keys to use to build the \n",
    "dictionary. If you don’t have these in your CSV file, you should specify your own keys \n",
    "by setting the fieldnames optional parameter to a list containing them.\n",
    "\n",
    "When writing data into csv file we need to specify the fieldnames attribute for csv file\n",
    "which we will see in a minute.\n"
   ]
  },
  {
   "cell_type": "markdown",
   "metadata": {},
   "source": [
    "# Writing CSV Data In File\n",
    "csv library has **wirter** object and **write_row()** method through which we can write \n",
    "to csv file\n",
    "\n",
    "**writing_csv.py**\n",
    "```\n",
    "import csv\n",
    "\n",
    "with open('employee_file.csv', 'w') as csvfile:\n",
    "\temployee_writer = csv.writer(csvfile)\n",
    "\temployee_writer.write_row(['name', 'department', 'started'])\n",
    "\temployee_writer.writer_row(['John Smith', 'Accounting', 'November'])\n",
    "\temployee_writer.writer_row(['Erica Meyers', 'IT', 'March'])\n",
    "```\n",
    "\n",
    "Alternatively you could have used \n",
    "\n",
    "**writing_csv.py**\n",
    "```\n",
    "import csv\n",
    "\n",
    "with open('employee_file.csv', 'w') as csvfile:\n",
    "\temployee_writer = csv.writer(csvfile, delimiter=',', quotechar='\"', quoting=csv.QUOTE_MINIMAL)\n",
    "\temployee_writer.write_row(['name', 'department', 'started'])\n",
    "\temployee_writer.writer_row(['John Smith', 'Accounting', 'November'])\n",
    "\temployee_writer.writer_row(['Erica Meyers', 'IT', 'March'])\n",
    "\n",
    "```\n",
    "\n",
    "Run the file \n",
    "\n",
    "```\n",
    "python writing_csv.py\n",
    "```\n",
    "\n",
    "A new file named ```employee_file.csv``` is created\n",
    "\n",
    "```\n",
    "name,department,started\n",
    "\n",
    "John Smith,Accounting,November\n",
    "\n",
    "Erica Meyers,IT,March\n",
    "\n",
    "```\n",
    "\n",
    "So why is this extra line added after each row, we wouldn't want this to happen. If we\n",
    "had another field named **id** then using **row number** to automatically provide **id**\n",
    "would completely go wrong. It did go wrong in my [python_intermediate](https://github.com/Alexmhack/python_intermediate/blob/master/python_csv/data.csv\n",
    ") tutorial.\n",
    "\n",
    "Well this happened because in the python3 we need to open the file with a attribute\n",
    "```newline=''``` so that newline doesn't use ```\\n```\n",
    "\n",
    "Editing the code a bit,\n",
    "\n",
    "**writing_csv.py**\n",
    "```\n",
    "import csv\n",
    "\n",
    "with open('employee_file.csv', 'w', newline='') as csvfile:\n",
    "\temployee_writer = csv.writer(csvfile)\n",
    "\temployee_writer.writerow(['name', 'department', 'started'])\n",
    "\temployee_writer.writerow(['John Smith', 'Accounting', 'November'])\n",
    "\temployee_writer.writerow(['Erica Meyers', 'IT', 'March'])\n",
    "\n",
    "```\n",
    "\n",
    "Running this version of file would give results,\n",
    "\n",
    "```\n",
    "name,department,started\n",
    "John Smith,Accounting,November\n",
    "Erica Meyers,IT,March\n",
    "```\n",
    "\n",
    "Here the first row represents the column names, the values start from second line.\n",
    "\n",
    "The quotechar optional parameter tells the csv writer which character to use when \n",
    "quoting fields while writing.\n",
    "\n",
    "1. If quoting is set to csv.QUOTE_MINIMAL, then .writerow() will quote fields only if they contain the delimiter or the quotechar. This is the default case.\n",
    "2. If quoting is set to csv.QUOTE_ALL, then .writerow() will quote all fields.\n",
    "3. If quoting is set to csv.QUOTE_NONNUMERIC, then .writerow() will quote all fields containing text data and convert all numeric fields to the float data type.\n",
    "4. If quoting is set to csv.QUOTE_NONE, then .writerow() will escape delimiters instead of quoting them. In this case, you also must provide a value for the escapechar optional parameter.\n"
   ]
  },
  {
   "cell_type": "markdown",
   "metadata": {},
   "source": [
    "# Writing From Dictionary Into File\n",
    "Just like **csv** has ```DictReader``` for reading data into dictionary, csv also has\n",
    "an object to write data from dictionary\n",
    "\n",
    "**csv_dictwriter.py**\n"
   ]
  },
  {
   "cell_type": "code",
   "execution_count": 9,
   "metadata": {},
   "outputs": [],
   "source": [
    "import csv\n",
    "dataPath = r\"C:\\Users\\fabian.rojas\\Documents\\Analitica_Avanzada\\Presentaciones\\Python_BackEnd\\Jennyfer Combariza\\data\"\n",
    "with open('employee_file1.csv', 'w', newline='') as csvfile:\n",
    "    fieldnames = ['emp_name', 'dept', 'birth_month']\n",
    "    employee_writer = csv.DictWriter(csvfile, fieldnames=fieldnames)\n",
    "\n",
    "    employee_writer.writeheader()\n",
    "    employee_writer.writerow({'emp_name': 'John Smith', 'dept': 'Accounting', 'birth_month': 'November'})\n",
    "    employee_writer.writerow({'emp_name': 'Erica Meyers', 'dept': 'IT', 'birth_month': 'March'})\n",
    "\n",
    "\n"
   ]
  },
  {
   "cell_type": "markdown",
   "metadata": {},
   "source": [
    "```csv.DictWriter``` has to be provided the required argument ```fieldnames``` which is\n",
    "a list containing the ```keys``` for dictionary.\n",
    "\n",
    "Just like ```csv.writer``` we use ```writerrow({})``` but this time passing a dict \n",
    "containing the ```values``` for ```keys```"
   ]
  },
  {
   "cell_type": "markdown",
   "metadata": {},
   "source": [
    "# Parsing CSV File Using [Pandas](http://pandas.pydata.org/index.html)\n",
    "**Pandas** library comes into play when you have a lot of data to analyze. **Pandas** is\n",
    "highly recommended for processing arge amount of data.\n",
    "\n",
    "Install pandas using\n",
    "\n",
    "```\n",
    "pip install pandas\n",
    "conda install pandas\n",
    "```\n",
    "\n",
    "**Reading the CSV into a pandas DataFrame is quick and straightforward:**\n",
    "\n",
    "**pandas_reads_csv.py**\n",
    "```\n",
    "import pandas\n",
    "\n",
    "df = pandas.read_csv('hrdata.csv')\n",
    "print(df)\n",
    "```\n",
    "\n",
    "Run the file\n",
    "\n",
    "```\n",
    "> python pandas_reads_csv.py\n",
    "\n",
    "             Name Hire Date   Salary  Sick Days remaining\n",
    "0  Graham Chapman  03/15/14  50000.0                   10\n",
    "1     John Cleese  06/01/15  65000.0                    8\n",
    "2       Eric Idle  05/12/14  45000.0                   10\n",
    "3     Terry Jones  11/01/13  70000.0                    3\n",
    "4   Terry Gilliam  08/12/14  48000.0                    7\n",
    "5   Michael Palin  05/23/13  66000.0                    8\n",
    "```\n",
    "\n",
    "A lot cleaner printing, right!\n",
    "\n",
    "**So what happened ?**\n",
    "\n",
    "Just three lines of code and we are done!\n",
    "\n",
    "```pandas.read_csv(file_path)``` is the piece of code that does all the work. Pandas\n",
    "opens, analyzes and reads the csv file and stores the data in **df (dataframe)**\n",
    "\n",
    "Pandas numbered or actually indexed the data starting from ```0``` this is default \n",
    "nature since we didn't give the ```index_col``` parameter. \n",
    "\n",
    "Let's index our dataframe from name field\n",
    "\n",
    "```\n",
    "import pandas \n",
    "\n",
    "df = pandas.read_csv('hrdata.csv', index_col='Name')\n",
    "print(df)\n",
    "```\n",
    "\n",
    "And what do you know\n",
    "\n",
    "```\n",
    "               Hire Date   Salary  Sick Days remaining\n",
    "Name\n",
    "Graham Chapman  03/15/14  50000.0                   10\n",
    "John Cleese     06/01/15  65000.0                    8\n",
    "Eric Idle       05/12/14  45000.0                   10\n",
    "Terry Jones     11/01/13  70000.0                    3\n",
    "Terry Gilliam   08/12/14  48000.0                    7\n",
    "```\n",
    "\n",
    "Now we see that our ```Hire Dat``` column is of type ```<class 'str'>```.\n",
    "\n",
    "Let’s fix the data type of the Hire Date field. You can force pandas to read data as a \n",
    "date with the parse_dates optional parameter, which is defined as a list of column \n",
    "names to treat as dates:\n",
    "\n",
    "```\n",
    "import pandas\n",
    "\n",
    "df = pandas.read_csv('hrdata.csv', index_col='Name', parse_dates=['Hire Date'])\n",
    "print(df)\n",
    "```\n",
    "\n",
    "```\n",
    "                Hire Date   Salary  Sick Days remaining\n",
    "Name\n",
    "Graham Chapman 2014-03-15  50000.0                   10\n",
    "John Cleese    2015-06-01  65000.0                    8\n",
    "Eric Idle      2014-05-12  45000.0                   10\n",
    "Terry Jones    2013-11-01  70000.0                    3\n",
    "Terry Gilliam  2014-08-12  48000.0                    7\n",
    "Michael Palin  2013-05-23  66000.0                    8\n",
    "```\n",
    "\n",
    "Formatted date is printed which is of type ```<class 'pandas._libs.tslibs.timestamps.Timestamp'>```\n",
    "\n",
    "If the csv file doesn't has the first line that tells the columns for file or you\n",
    "want to override the columns and give your own then in that case you can use \n",
    "```header=0```\n",
    "\n",
    "```\n",
    "import pandas\n",
    "\n",
    "df = pandas.read_csv('hrdata.csv', \n",
    "            index_col='Employee', \n",
    "            parse_dates=['Hired'], \n",
    "            header=0, \n",
    "            names=['Employee', 'Hired','Salary', 'Sick Days'])\n",
    "print(df)\n",
    "```\n",
    "\n",
    "On changing the header names we get \n",
    "\n",
    "```\n",
    "                    Hired   Salary  Sick Days\n",
    "Employee\n",
    "Graham Chapman 2014-03-15  50000.0         10\n",
    "John Cleese    2015-06-01  65000.0          8\n",
    "Eric Idle      2014-05-12  45000.0         10\n",
    "Terry Jones    2013-11-01  70000.0          3\n",
    "Terry Gilliam  2014-08-12  48000.0          7\n",
    "Michael Palin  2013-05-23  66000.0          8\n",
    "```\n",
    "\n"
   ]
  },
  {
   "cell_type": "markdown",
   "metadata": {},
   "source": [
    "# Writing CSV Files With Pandas\n",
    "Just as Reading CSV with pandas could be done in three lines of code Writing CSV with \n",
    "pandas is also simple, just using ```df.to_csv(file_path)``` and we are done.\n",
    "\n",
    "**pandas_to_csv.py**\n",
    "```\n",
    "import pandas\n",
    "\n",
    "df = pandas.read_csv(\n",
    "\t'hrdata.csv',\n",
    "\tindex_col='Employee',\n",
    "\tparse_dates=['Hired'],\n",
    "\theader=0,\n",
    "\tnames=['Employee', 'Hired', 'Salary', 'Sick Days']\n",
    ")\n",
    "\n",
    "df.to_csv('hrdata_modified.csv')\n",
    "\n",
    "df_modified = pandas.read_csv(\n",
    "\t'hrdata_modified.csv',\n",
    "\tindex_col='Employee',\n",
    "\tparse_dates=['Hired'],\n",
    ")\n",
    "\n",
    "print(df_modified)\n",
    "\n",
    "```\n",
    "\n",
    "Running file we get a new file ```hrdata_modified.csv```\n",
    "\n",
    "```\n",
    "                    Hired   Salary  Sick Days\n",
    "Employee\n",
    "Graham Chapman 2014-03-15  50000.0         10\n",
    "John Cleese    2015-06-01  65000.0          8\n",
    "Eric Idle      2014-05-12  45000.0         10\n",
    "Terry Jones    2013-11-01  70000.0          3\n",
    "Terry Gilliam  2014-08-12  48000.0          7\n",
    "Michael Palin  2013-05-23  66000.0          8\n",
    "```\n",
    "\n",
    "This is it, for more tutorial visit my github [page](https://github.com/Alexmhack) or \n",
    "contact me at my blog [CodeMentor](http://www.codementor.tk)\n"
   ]
  },
  {
   "cell_type": "code",
   "execution_count": 12,
   "metadata": {},
   "outputs": [
    {
     "name": "stdout",
     "output_type": "stream",
     "text": [
      "                    Hired   Salary  Sick Days\n",
      "Employee                                     \n",
      "Graham Chapman 2014-03-15  50000.0         10\n",
      "John Cleese    2015-06-01  65000.0          8\n",
      "Eric Idle      2014-05-12  45000.0         10\n",
      "Terry Jones    2013-11-01  70000.0          3\n",
      "Terry Gilliam  2014-08-12  48000.0          7\n",
      "Michael Palin  2013-05-23  66000.0          8\n"
     ]
    }
   ],
   "source": [
    "import pandas\n",
    "dataPath = r\"C:\\Users\\fabian.rojas\\Documents\\Analitica_Avanzada\\Presentaciones\\Python_BackEnd\\Jennyfer Combariza\\data\"\n",
    "df = pandas.read_csv(os.path.join(dataPath,'hrdata.csv'),index_col='Employee',parse_dates=['Hired'],header=0,names=['Employee', 'Hired', 'Salary', 'Sick Days'])\n",
    "\n",
    "df.to_csv('hrdata_modified.csv')\n",
    "\n",
    "df_modified = pandas.read_csv('hrdata_modified.csv',index_col='Employee',parse_dates=['Hired'])\n",
    "\n",
    "print(df_modified)\n"
   ]
  },
  {
   "cell_type": "code",
   "execution_count": 13,
   "metadata": {},
   "outputs": [
    {
     "data": {
      "text/html": [
       "<div>\n",
       "<style scoped>\n",
       "    .dataframe tbody tr th:only-of-type {\n",
       "        vertical-align: middle;\n",
       "    }\n",
       "\n",
       "    .dataframe tbody tr th {\n",
       "        vertical-align: top;\n",
       "    }\n",
       "\n",
       "    .dataframe thead th {\n",
       "        text-align: right;\n",
       "    }\n",
       "</style>\n",
       "<table border=\"1\" class=\"dataframe\">\n",
       "  <thead>\n",
       "    <tr style=\"text-align: right;\">\n",
       "      <th></th>\n",
       "      <th>Hired</th>\n",
       "      <th>Salary</th>\n",
       "      <th>Sick Days</th>\n",
       "    </tr>\n",
       "    <tr>\n",
       "      <th>Employee</th>\n",
       "      <th></th>\n",
       "      <th></th>\n",
       "      <th></th>\n",
       "    </tr>\n",
       "  </thead>\n",
       "  <tbody>\n",
       "    <tr>\n",
       "      <th>Graham Chapman</th>\n",
       "      <td>2014-03-15</td>\n",
       "      <td>50000.0</td>\n",
       "      <td>10</td>\n",
       "    </tr>\n",
       "    <tr>\n",
       "      <th>John Cleese</th>\n",
       "      <td>2015-06-01</td>\n",
       "      <td>65000.0</td>\n",
       "      <td>8</td>\n",
       "    </tr>\n",
       "    <tr>\n",
       "      <th>Eric Idle</th>\n",
       "      <td>2014-05-12</td>\n",
       "      <td>45000.0</td>\n",
       "      <td>10</td>\n",
       "    </tr>\n",
       "    <tr>\n",
       "      <th>Terry Jones</th>\n",
       "      <td>2013-11-01</td>\n",
       "      <td>70000.0</td>\n",
       "      <td>3</td>\n",
       "    </tr>\n",
       "    <tr>\n",
       "      <th>Terry Gilliam</th>\n",
       "      <td>2014-08-12</td>\n",
       "      <td>48000.0</td>\n",
       "      <td>7</td>\n",
       "    </tr>\n",
       "    <tr>\n",
       "      <th>Michael Palin</th>\n",
       "      <td>2013-05-23</td>\n",
       "      <td>66000.0</td>\n",
       "      <td>8</td>\n",
       "    </tr>\n",
       "  </tbody>\n",
       "</table>\n",
       "</div>"
      ],
      "text/plain": [
       "                    Hired   Salary  Sick Days\n",
       "Employee                                     \n",
       "Graham Chapman 2014-03-15  50000.0         10\n",
       "John Cleese    2015-06-01  65000.0          8\n",
       "Eric Idle      2014-05-12  45000.0         10\n",
       "Terry Jones    2013-11-01  70000.0          3\n",
       "Terry Gilliam  2014-08-12  48000.0          7\n",
       "Michael Palin  2013-05-23  66000.0          8"
      ]
     },
     "execution_count": 13,
     "metadata": {},
     "output_type": "execute_result"
    }
   ],
   "source": [
    "df_modified"
   ]
  },
  {
   "cell_type": "code",
   "execution_count": null,
   "metadata": {},
   "outputs": [],
   "source": []
  }
 ],
 "metadata": {
  "kernelspec": {
   "display_name": "Python 3",
   "language": "python",
   "name": "python3"
  },
  "language_info": {
   "codemirror_mode": {
    "name": "ipython",
    "version": 3
   },
   "file_extension": ".py",
   "mimetype": "text/x-python",
   "name": "python",
   "nbconvert_exporter": "python",
   "pygments_lexer": "ipython3",
   "version": "3.5.5"
  }
 },
 "nbformat": 4,
 "nbformat_minor": 2
}
