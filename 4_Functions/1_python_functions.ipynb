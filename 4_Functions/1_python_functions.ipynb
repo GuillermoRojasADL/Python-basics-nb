{
 "cells": [
  {
   "cell_type": "markdown",
   "metadata": {},
   "source": [
    "# Python: funciones\n",
    "\n",
    "  * Se crean con el keyword **def** , seguido del nombre de la función y **():**  \n",
    "  * El código dentro de la función debe estar indentado."
   ]
  },
  {
   "cell_type": "code",
   "execution_count": null,
   "metadata": {},
   "outputs": [],
   "source": [
    "def hello():\n",
    "    print('Hola')\n",
    "\n",
    "hello()"
   ]
  },
  {
   "cell_type": "code",
   "execution_count": null,
   "metadata": {},
   "outputs": [],
   "source": [
    "def hello():\n",
    "    '''Documentacion de la función.\n",
    "    >>>hello()\n",
    "    Hola\n",
    "    '''\n",
    "    print('Hola')"
   ]
  },
  {
   "cell_type": "code",
   "execution_count": null,
   "metadata": {},
   "outputs": [],
   "source": [
    "hello?"
   ]
  },
  {
   "cell_type": "code",
   "execution_count": 1,
   "metadata": {},
   "outputs": [],
   "source": [
    "def fib(n):\n",
    "    \"\"\"Funcion para calcular e imprimir la serie de Fibonacci hasta n.\"\"\"\n",
    "    a, b = 0, 1\n",
    "    while a < n:\n",
    "        print(a, end=' ')\n",
    "        a, b = b, a+b\n",
    "    print()"
   ]
  },
  {
   "cell_type": "code",
   "execution_count": 2,
   "metadata": {},
   "outputs": [
    {
     "name": "stdout",
     "output_type": "stream",
     "text": [
      "0 1 1 2 3 5 8 13 21 34 \n"
     ]
    }
   ],
   "source": [
    "fib(40)"
   ]
  },
  {
   "cell_type": "markdown",
   "metadata": {},
   "source": [
    "## Argumentos\n",
    "\n",
    "* Las variables definidas dentro de un función se denominan parámetros.\n",
    "* Los argumentos son los valores que se les asignan a las parámetros cuando se hace el llamado a la función."
   ]
  },
  {
   "cell_type": "code",
   "execution_count": null,
   "metadata": {},
   "outputs": [],
   "source": [
    "def print_arg(word):\n",
    "    print('El argumento es: ' + word)\n",
    "\n",
    "print_arg('Hola')"
   ]
  },
  {
   "cell_type": "markdown",
   "metadata": {},
   "source": [
    "La sentencia `return` devuelve un valor en una función.\n",
    "`return` si una expresión como argumento retorna `None`."
   ]
  },
  {
   "cell_type": "code",
   "execution_count": null,
   "metadata": {},
   "outputs": [],
   "source": [
    "def max(x, y):\n",
    "    if x>=y:\n",
    "        return x\n",
    "    else:\n",
    "        return y"
   ]
  },
  {
   "cell_type": "markdown",
   "metadata": {},
   "source": [
    "### Argumentos obligatorios\n",
    "\n",
    "Son aquellos definidos en la función y que no se les asigna un valor predefinido. Deben estar incluidos en el llamado a la función."
   ]
  },
  {
   "cell_type": "code",
   "execution_count": null,
   "metadata": {},
   "outputs": [],
   "source": [
    "def div(x, y):\n",
    "    return x/y\n",
    "\n",
    "a = 7\n",
    "b = 4\n",
    "oper = div\n",
    "\n",
    "print(div(a,b))"
   ]
  },
  {
   "cell_type": "code",
   "execution_count": null,
   "metadata": {},
   "outputs": [],
   "source": [
    "print(div(a))"
   ]
  },
  {
   "cell_type": "markdown",
   "metadata": {},
   "source": [
    "### Argumentos predefinidos\n",
    "\n",
    "Son argumento a los que se les asigna un valor en la definicion de la función y en pueden no estar incluidos en los llamados a dicha función."
   ]
  },
  {
   "cell_type": "code",
   "execution_count": 3,
   "metadata": {},
   "outputs": [],
   "source": [
    "def add(x, increment=1):\n",
    "    ''' Ésta funcion permite hacer incrementos.\n",
    "    >>> add(5)\n",
    "    6\n",
    "    >>> add(7, 8)\n",
    "    15\n",
    "    '''\n",
    "    return x + increment"
   ]
  },
  {
   "cell_type": "code",
   "execution_count": 4,
   "metadata": {},
   "outputs": [
    {
     "data": {
      "text/plain": [
       "\u001b[1;31mSignature:\u001b[0m \u001b[0madd\u001b[0m\u001b[1;33m(\u001b[0m\u001b[0mx\u001b[0m\u001b[1;33m,\u001b[0m \u001b[0mincrement\u001b[0m\u001b[1;33m=\u001b[0m\u001b[1;36m1\u001b[0m\u001b[1;33m)\u001b[0m\u001b[1;33m\u001b[0m\u001b[0m\n",
       "\u001b[1;31mDocstring:\u001b[0m\n",
       "Ésta funcion permite hacer incrementos.\n",
       ">>> add(5)\n",
       "6\n",
       ">>> add(7, 8)\n",
       "15\n",
       "\u001b[1;31mFile:\u001b[0m      c:\\users\\fabian.rojas\\documents\\analitica_avanzada\\presentaciones\\python_backend\\4_functions\\<ipython-input-3-ed6860c621a0>\n",
       "\u001b[1;31mType:\u001b[0m      function\n"
      ]
     },
     "metadata": {},
     "output_type": "display_data"
    }
   ],
   "source": [
    "add?"
   ]
  },
  {
   "cell_type": "code",
   "execution_count": null,
   "metadata": {},
   "outputs": [],
   "source": [
    "add(15)"
   ]
  },
  {
   "cell_type": "markdown",
   "metadata": {},
   "source": [
    "En caso de pasar un valor al argumento predefinido en el llamado a la funcion, el valor por defecto se ignora:"
   ]
  },
  {
   "cell_type": "code",
   "execution_count": null,
   "metadata": {},
   "outputs": [],
   "source": [
    "add(9, 3)"
   ]
  },
  {
   "cell_type": "markdown",
   "metadata": {},
   "source": [
    "### Funciones como argumentos"
   ]
  },
  {
   "cell_type": "code",
   "execution_count": null,
   "metadata": {},
   "outputs": [],
   "source": [
    "def sumar(x, y):\n",
    "    return x+y\n",
    "\n",
    "def sumar_doble(func, x, y):\n",
    "    return func(func(x,y), func(x,y))\n",
    "\n",
    "a=3\n",
    "b=8\n",
    "\n",
    "sumar_doble(sumar, a, b)"
   ]
  },
  {
   "cell_type": "markdown",
   "metadata": {},
   "source": [
    "### Argumentos de longitud variable"
   ]
  },
  {
   "cell_type": "code",
   "execution_count": 5,
   "metadata": {},
   "outputs": [
    {
     "name": "stdout",
     "output_type": "stream",
     "text": [
      "1\n",
      "2 3 4\n"
     ]
    }
   ],
   "source": [
    "def funcion_1(x, *args):\n",
    "    print(x)\n",
    "    print(*args)\n",
    "\n",
    "funcion_1(1,2,3,4)"
   ]
  },
  {
   "cell_type": "code",
   "execution_count": null,
   "metadata": {},
   "outputs": [],
   "source": [
    "def funcion_2(x, *args, **kwargs):\n",
    "    print(x)\n",
    "    print(args)\n",
    "    print(kwargs)\n",
    "\n",
    "funcion_2(1,2,3,4, a=2, b=3)"
   ]
  },
  {
   "cell_type": "markdown",
   "metadata": {},
   "source": [
    "# Calculando la raíz de un polinomio\n",
    "\n",
    "Se quiere encontrar, aproximadamente, la raiz del polinomio $x^3 - 4x^2 -11x + 30$\n",
    "\n",
    "Se inicia definiendo una funcion `f` que toma un unico argumento `x` y retorna el valor del polinomio."
   ]
  },
  {
   "cell_type": "code",
   "execution_count": null,
   "metadata": {},
   "outputs": [],
   "source": [
    "def f(x):\n",
    "    return x**3 - 4 * x**2 - 11 * x + 30"
   ]
  },
  {
   "cell_type": "code",
   "execution_count": null,
   "metadata": {},
   "outputs": [],
   "source": [
    "f(3.1)"
   ]
  },
  {
   "cell_type": "code",
   "execution_count": null,
   "metadata": {},
   "outputs": [],
   "source": [
    "import random\n",
    "\n",
    "for i in range(5):\n",
    "    x = random.uniform(-10, 10)\n",
    "    fx = f(x)\n",
    "    print(x, fx)"
   ]
  },
  {
   "cell_type": "markdown",
   "metadata": {},
   "source": [
    "Necesitamos intentar mas valores de $x$ para encontrar el valor para el cual $f(x)\\approx 0$, y debemos conservar este valor y el de $|f(x)|$.\n",
    "\n",
    "Para esto almacenamos $x$ y $f(x)$ en una tupla\n",
    "\n",
    "    mejor_fx = (x,fx)\n",
    "    \n",
    "Podemos acceder a los valores,\n",
    "\n",
    "    mejor_fx[0]  # x\n",
    "    mejor_fx[1]  # f(x)\n",
    " "
   ]
  },
  {
   "cell_type": "markdown",
   "metadata": {},
   "source": [
    "Ahora tenemos que encontrar una manera de comparar el valor de $f(x)$ para diferentes de valores de $x$"
   ]
  },
  {
   "cell_type": "code",
   "execution_count": null,
   "metadata": {},
   "outputs": [],
   "source": [
    "primer_x = 0\n",
    "mejor_fx = (primer_x, f(primer_x))\n",
    "mejor_fx"
   ]
  },
  {
   "cell_type": "code",
   "execution_count": null,
   "metadata": {},
   "outputs": [],
   "source": [
    "nuevo_x = 3\n",
    "fx = f(nuevo_x)\n",
    "fx"
   ]
  },
  {
   "cell_type": "markdown",
   "metadata": {},
   "source": [
    "Cuál valor de $x$ es mejor?"
   ]
  },
  {
   "cell_type": "code",
   "execution_count": null,
   "metadata": {},
   "outputs": [],
   "source": [
    "abs(fx) < abs(mejor_fx[1])"
   ]
  },
  {
   "cell_type": "markdown",
   "metadata": {},
   "source": [
    "Cuando la condición se cumpla actualizamos el valor de `mejor_fx`\n",
    "\n",
    "    if abs(fx) < abs(mejor_fx[1]):\n",
    "        mejor_fx = (x, fx)"
   ]
  },
  {
   "cell_type": "code",
   "execution_count": null,
   "metadata": {},
   "outputs": [],
   "source": [
    "import random\n",
    "\n",
    "def f(x):\n",
    "    return x**3 - 4*x**2 - 11*x + 30\n",
    "\n",
    "mejor_fx = (0, f(0))\n",
    "\n",
    "for step in range(100):\n",
    "    x = random.uniform(-10, 10)\n",
    "    fx = f(x)\n",
    "    if (abs(fx) < abs(mejor_fx[1])):\n",
    "        mejor_fx = (x, fx)"
   ]
  },
  {
   "cell_type": "code",
   "execution_count": null,
   "metadata": {},
   "outputs": [],
   "source": [
    "mejor_fx"
   ]
  },
  {
   "cell_type": "code",
   "execution_count": null,
   "metadata": {},
   "outputs": [],
   "source": [
    "def enontrar_raiz(f, xmin, xmax, n=1000):\n",
    "    mejor_fx = (0, f(0))\n",
    "    for step in range(n):\n",
    "        x = random.uniform(xmin, xmax)\n",
    "        fx = f(x)\n",
    "        if (abs(fx) < abs(mejor_fx[1])):\n",
    "            mejor_fx = (x, fx)\n",
    "    return mejor_fx"
   ]
  },
  {
   "cell_type": "code",
   "execution_count": null,
   "metadata": {},
   "outputs": [],
   "source": [
    "encontrar_raiz(f, -10, 10, 100000)"
   ]
  },
  {
   "cell_type": "markdown",
   "metadata": {},
   "source": [
    "# Programacion funcional\n",
    "\n",
    "Functional programming ([Functional programming](https://en.wikipedia.org/wiki/Functional_programming))\n",
    "\n",
    "## Funciones puras\n",
    "\n",
    "Las funciones puras son aquellas que no tienen efectos secundarios, es decir retornan un valor que solo depende de los argumentos de la función."
   ]
  },
  {
   "cell_type": "code",
   "execution_count": null,
   "metadata": {},
   "outputs": [],
   "source": [
    "# Función pura\n",
    "def funcion_pura(x, y):\n",
    "    resultado = 2*x + y\n",
    "    return resultado / (x+y)"
   ]
  },
  {
   "cell_type": "code",
   "execution_count": null,
   "metadata": {},
   "outputs": [],
   "source": [
    "list_prb = []\n",
    "\n",
    "# Función impura\n",
    "def funcion_impura(x):\n",
    "    lista_prb.append(x)"
   ]
  },
  {
   "cell_type": "markdown",
   "metadata": {},
   "source": [
    "La función anterior no es pura ya que cambia el estado de `list_prb`"
   ]
  },
  {
   "cell_type": "markdown",
   "metadata": {},
   "source": [
    "## Funciones lambda\n",
    "\n",
    "También conocidas como funciones anónimas, se crean con el keyword `lambda`. Están sintácticamente restringidas a una sola expresión."
   ]
  },
  {
   "cell_type": "code",
   "execution_count": null,
   "metadata": {},
   "outputs": [],
   "source": [
    "val = -4.99\n",
    "\n",
    "##\n",
    "def f(x):\n",
    "    return x**3 - 4 * x**2 - 11 * x + 30\n",
    "\n",
    "print('Funcion normal:')\n",
    "print(f(val))\n",
    "\n",
    "##\n",
    "print('Funcion lamda:')\n",
    "print((lambda x: x**3 - 4 * x**2 - 11 * x + 30)(val))"
   ]
  },
  {
   "cell_type": "markdown",
   "metadata": {},
   "source": [
    "Las funciones lambda pueden ser asignadas a una variable para utilizarlas como como una funcion normal."
   ]
  },
  {
   "cell_type": "code",
   "execution_count": null,
   "metadata": {},
   "outputs": [],
   "source": [
    "cuadrado = lambda x: x**2\n",
    "cuadrado(4)"
   ]
  },
  {
   "cell_type": "markdown",
   "metadata": {},
   "source": [
    "Retomando el ejemplo de la funcion para encontrar la raíz del polinomio"
   ]
  },
  {
   "cell_type": "code",
   "execution_count": null,
   "metadata": {},
   "outputs": [],
   "source": [
    "encontrar_raiz(lambda x: x**3 - 4 * x**2 - 11 * x + 30, -10, 10, 100000)"
   ]
  }
 ],
 "metadata": {
  "kernelspec": {
   "display_name": "Python 3",
   "language": "python",
   "name": "python3"
  },
  "language_info": {
   "codemirror_mode": {
    "name": "ipython",
    "version": 3
   },
   "file_extension": ".py",
   "mimetype": "text/x-python",
   "name": "python",
   "nbconvert_exporter": "python",
   "pygments_lexer": "ipython3",
   "version": "3.5.5"
  }
 },
 "nbformat": 4,
 "nbformat_minor": 2
}
